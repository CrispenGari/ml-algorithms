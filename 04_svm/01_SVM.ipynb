{
  "nbformat": 4,
  "nbformat_minor": 0,
  "metadata": {
    "colab": {
      "name": "01_SVM.ipynb",
      "provenance": [],
      "collapsed_sections": []
    },
    "kernelspec": {
      "name": "python3",
      "display_name": "Python 3"
    },
    "language_info": {
      "name": "python"
    }
  },
  "cells": [
    {
      "cell_type": "markdown",
      "source": [
        "### SVM (Support Vector Machine)\n",
        "\n",
        "In this notebook we are going to implement the Support Vector Machine algorithim from scratch using python and numpy.\n",
        "\n",
        "### Definition\n",
        "\n",
        "Support Vector Machine (SVM) is a relatively simple Supervised Machine Learning Algorithm used for classification and/or regression. It is more preferred for classification but is sometimes very useful for regression as well. Basically, SVM finds a hyper-plane that creates a boundary between the types of data. In 2-dimensional space, this hyper-plane is nothing but a line.\n",
        "\n",
        "In SVM, we plot each data item in the dataset in an N-dimensional space, where N is the number of features/attributes in the data. Next, find the optimal hyperplane to separate the data. So by this, you must have understood that inherently, SVM can only perform binary classification (i.e., choose between two classes). However, there are various techniques to use for multi-class problems.\n",
        "\n",
        "\n",
        "### Imports for implementation."
      ],
      "metadata": {
        "id": "zEVWkAYJlbuk"
      }
    },
    {
      "cell_type": "code",
      "source": [
        "import numpy as np"
      ],
      "metadata": {
        "id": "txpQe4m4lXjH"
      },
      "execution_count": 15,
      "outputs": []
    },
    {
      "cell_type": "markdown",
      "source": [
        "### The SVM class\n",
        "In the following code cell we are going then to create an SVM algorithm using numpy."
      ],
      "metadata": {
        "id": "95MiK25omYrJ"
      }
    },
    {
      "cell_type": "code",
      "source": [
        "class SVM:\n",
        "  \"\"\"\n",
        "  The init function takes the following parameters:\n",
        "    * lr - leaning rate defalt is .001\n",
        "    * lambda_param - default is .01\n",
        "    * n_inters - number of iterations default is 10000\n",
        "  \"\"\"\n",
        "  def __init__(self, lr=0.001, lambda_param=.01, n_iters=1000):\n",
        "    self.lr= lr\n",
        "    self.lambda_param = lambda_param\n",
        "    self.n_iters = n_iters\n",
        "    self.w = None\n",
        "    self.b = None\n",
        "\n",
        "\n",
        "  def fit(self, X, y):\n",
        "    n_samples, n_features = X.shape\n",
        "    y_ = np.where(y<=0, -1, 1)\n",
        "    self.b = 0\n",
        "    self.w = np.zeros(n_features)\n",
        "\n",
        "    for _ in range(self.n_iters):\n",
        "      for i, x_i in enumerate(X):\n",
        "        condition = y_[i] * (np.dot(x_i, self.w) - self.b) >= 1\n",
        "        if condition:\n",
        "          self.w -= self.lr * (2 * self.lambda_param * self.w)\n",
        "        else:\n",
        "          self.w -= self.lr * (\n",
        "                        2 * self.lambda_param * self.w - np.dot(x_i, y_[i])\n",
        "          )\n",
        "          self.b -= self.lr * y_[i]\n",
        "          \n",
        "  def predict(self, X):\n",
        "    approx = np.dot(X, self.w) - self.b\n",
        "    return np.sign(approx)\n",
        "\n",
        "  def evaluate(self, y_true, y_pred):\n",
        "    return f\"Acc: {np.equal(y_true, y_pred).sum()/len(y_true) * 100}%\"\n"
      ],
      "metadata": {
        "id": "HoCX3RdimiJU"
      },
      "execution_count": 22,
      "outputs": []
    },
    {
      "cell_type": "markdown",
      "source": [
        "### Fit, Predict and evaluate\n",
        "\n",
        "In the following code cells we are going to create  a dummy dataset from `sklearn` and call the fit, predict and evaluate function from the SVM classifier"
      ],
      "metadata": {
        "id": "DKsieYiAJ-hF"
      }
    },
    {
      "cell_type": "code",
      "source": [
        "from sklearn import datasets\n",
        "from sklearn.model_selection import  train_test_split\n",
        "import matplotlib.pyplot as plt\n",
        "\n",
        "X, y = datasets.make_blobs(\n",
        "    n_samples=150, n_features=2, centers=2, cluster_std=1.05,\n",
        "     random_state=42\n",
        ")\n",
        "y = np.where(y == 0, -1, 1)\n",
        "\n",
        "X_train, X_test, y_train, y_test = train_test_split(\n",
        "    X, y, test_size=.2\n",
        ")"
      ],
      "metadata": {
        "id": "8bbMK_1NlXdN"
      },
      "execution_count": 23,
      "outputs": []
    },
    {
      "cell_type": "markdown",
      "source": [
        "### Intance of a classifier"
      ],
      "metadata": {
        "id": "2Bu9Qe1YK14g"
      }
    },
    {
      "cell_type": "code",
      "source": [
        "clf = SVM()\n",
        "clf.fit(X_train, y_train)"
      ],
      "metadata": {
        "id": "ALl5tLVmlXaS"
      },
      "execution_count": 24,
      "outputs": []
    },
    {
      "cell_type": "code",
      "source": [
        "predictions = clf.predict(X_test)"
      ],
      "metadata": {
        "id": "xa0bch9_lXNS"
      },
      "execution_count": 25,
      "outputs": []
    },
    {
      "cell_type": "code",
      "source": [
        "predictions[:10]"
      ],
      "metadata": {
        "colab": {
          "base_uri": "https://localhost:8080/"
        },
        "id": "196neiZwLL88",
        "outputId": "32f2a885-6d1e-428b-a180-b7511270f358"
      },
      "execution_count": 26,
      "outputs": [
        {
          "output_type": "execute_result",
          "data": {
            "text/plain": [
              "array([ 1., -1., -1., -1.,  1.,  1., -1.,  1., -1., -1.])"
            ]
          },
          "metadata": {},
          "execution_count": 26
        }
      ]
    },
    {
      "cell_type": "code",
      "source": [
        "clf.evaluate(predictions, y_test)"
      ],
      "metadata": {
        "colab": {
          "base_uri": "https://localhost:8080/",
          "height": 35
        },
        "id": "tj-acOS7L7iB",
        "outputId": "0f42a85a-0b61-4873-83d4-8bc60ecff195"
      },
      "execution_count": 27,
      "outputs": [
        {
          "output_type": "execute_result",
          "data": {
            "application/vnd.google.colaboratory.intrinsic+json": {
              "type": "string"
            },
            "text/plain": [
              "'Acc: 100.0%'"
            ]
          },
          "metadata": {},
          "execution_count": 27
        }
      ]
    },
    {
      "cell_type": "markdown",
      "source": [
        "### Ref\n",
        "\n",
        "1. [geeks for geeks](https://www.geeksforgeeks.org/introduction-to-support-vector-machines-svm/)\n",
        "2. [python engineer](https://github.com/python-engineer/MLfromscratch/blob/master/mlfromscratch/svm.py)"
      ],
      "metadata": {
        "id": "_J4wf_U_l7wA"
      }
    },
    {
      "cell_type": "code",
      "source": [
        ""
      ],
      "metadata": {
        "id": "K6-Fr9zVmLvw"
      },
      "execution_count": null,
      "outputs": []
    }
  ]
}