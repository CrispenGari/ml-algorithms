{
  "nbformat": 4,
  "nbformat_minor": 0,
  "metadata": {
    "colab": {
      "name": "01_KNN.ipynb",
      "provenance": []
    },
    "kernelspec": {
      "name": "python3",
      "display_name": "Python 3"
    },
    "language_info": {
      "name": "python"
    }
  },
  "cells": [
    {
      "cell_type": "markdown",
      "metadata": {
        "id": "4KZdDqELp5a5"
      },
      "source": [
        "### KNN Algorithim\n",
        "\n",
        "The k-nearest neighbors (KNN) algorithm is a simple, supervised machine learning\n",
        "algorithm that can be used to solve both classification and regression problems. This algorithm classify a set of given feature based on the pupularity of votes on nearest neighbors classes.\n",
        "\n",
        "An object is classified by a plurality vote of its neighbors, with the object being assigned to the class most common among its ``k`` nearest neighbors (``k`` is a positive integer, typically small and normally an `odd` number). If ``k = 1``, then the object is simply assigned to the class of that single nearest neighbor.\n",
        "\n",
        "### How does KNN works?\n",
        "* KNN calculates the euclidian distance between an object's neighbors and based on the number of neighbors denoted by `k` then the algorithm will classify the object based on the plurality vote of its neighbors. Consider an object A sorounded by many objects as follows:\n",
        "\n",
        "```\n",
        "    *\n",
        "              *\n",
        "      *      .A           o\n",
        "\n",
        "              o\n",
        "```\n",
        "\n",
        "If the value of `k` (number of neighbors) is three this means that the three clossest  neighbors are ``[*, o, *]`` based on this fact we can see that the most common neighbor is a `*` therefore the `KNN` will classify point `A` as a `*`.\n",
        "\n",
        "\n",
        "### How do ``KNN`` calculate Euclidean distance?\n",
        "\n",
        "* Euclidean distance is the distance between two points based on the pythagoream theorem. It is calculated using either of the following two fomulars.\n",
        "\n",
        "1. \n",
        "\n",
        "\n",
        "![img](https://www.gstatic.com/education/formulas2/397133473/en/euclidean_distance.svg)\n",
        "\n",
        "_**(p,q\t)**_=\ttwo points in Euclidean n-space\n",
        "\n",
        "**_qi_**, **_pi_**\t=\tEuclidean vectors, starting from the origin of the space (initial point)\n",
        "\n",
        "_**n**_\t=\tn-space\n",
        "\n",
        "2.\n",
        "\n",
        "![img](https://www.researchgate.net/profile/Young-Sun-Lee-2/publication/263889770/figure/fig1/AS:890653479284740@1589359745492/An-example-of-Euclidean-distance-between-two-objects-on-variables-X-and-Y.png)\n",
        "\n",
        "\n",
        "\n",
        "### Implementation\n",
        "\n",
        "We are then going to create a simple `KNN` algorithm based on `sk-learn` library from scratch as follows:\n",
        "\n",
        "\n",
        "### Imports\n",
        "\n"
      ]
    },
    {
      "cell_type": "code",
      "metadata": {
        "id": "yF5OlA2xp3mB"
      },
      "source": [
        "import numpy as np\n",
        "from collections import Counter"
      ],
      "execution_count": 1,
      "outputs": []
    },
    {
      "cell_type": "code",
      "metadata": {
        "id": "D7PHAsdxp4aF"
      },
      "source": [
        "class KNN:\n",
        "  def __init__(self, k=3):\n",
        "    \"\"\"\n",
        "    KNN - takes in the number of neighbors default value is 3\n",
        "    \"\"\"\n",
        "    self.k = k \n",
        "\n",
        "  def fit(self, X, y):\n",
        "    \"\"\"\n",
        "    The fit method takes in features and labels and store them\n",
        "    \"\"\"\n",
        "    self.X_train = X\n",
        "    self.y_train = y\n",
        "\n",
        "  def predict(self, X):\n",
        "    \"\"\"\n",
        "    This function takes in a list of features and returns a list of predicated labels\n",
        "    \"\"\"\n",
        "    y_preds = [self._predict(x) for x in X]\n",
        "    return np.array(y_preds)\n",
        "\n",
        "  def _euclidean_distance(self, x1, x2):\n",
        "    \"\"\"\n",
        "    a private function that calculates the euclidean distance between \n",
        "    two points\n",
        "    \"\"\"\n",
        "    return np.sqrt(np.sum((x1 - x2) ** 2))\n",
        "\n",
        "  def _predict(self, x):\n",
        "    \"\"\"\n",
        "    this function takes a single feature and returns a single prediction.\n",
        "    \"\"\"\n",
        "    # compute the distances between x and all x_train features\n",
        "    distances = [self._euclidean_distance(x, x_train) for x_train in self.X_train]\n",
        "    # sort the distances and return the indices of the first k nearest neighbors\n",
        "    k_idx = np.argsort(distances)[:self.k]\n",
        "    # extracting the labels of the nearest neighbor\n",
        "\n",
        "    k_neighbors_labels = [self.y_train[i] for i in k_idx]\n",
        "    # most common label\n",
        "    return Counter(k_neighbors_labels).most_common(1)[0][0]\n",
        "\n",
        "  def evaluate(self,y_true, y_pred):\n",
        "    \"\"\"\n",
        "    returns the algorithm's accuracy\n",
        "    \"\"\"\n",
        "    return np.sum(y_true==y_pred)/len(y_pred)\n"
      ],
      "execution_count": 2,
      "outputs": []
    },
    {
      "cell_type": "markdown",
      "metadata": {
        "id": "luwDTOIlzH7k"
      },
      "source": [
        "### Testing the `KNN` algorithm.\n",
        "\n",
        "We are going to use the dataset from `sklearn` the `iris` dataset to test our `KNN` algorithm. "
      ]
    },
    {
      "cell_type": "code",
      "metadata": {
        "id": "kzyZ89LCp4h5"
      },
      "source": [
        "from sklearn import datasets\n",
        "from sklearn.model_selection import train_test_split"
      ],
      "execution_count": 3,
      "outputs": []
    },
    {
      "cell_type": "code",
      "metadata": {
        "colab": {
          "base_uri": "https://localhost:8080/"
        },
        "id": "vsKfXc4ap4k5",
        "outputId": "7b06075f-5736-4434-b18e-07aec517f378"
      },
      "source": [
        "iris = datasets.load_iris()\n",
        "X, y = iris.data, iris.target\n",
        "\n",
        "X.shape, y.shape"
      ],
      "execution_count": 4,
      "outputs": [
        {
          "output_type": "execute_result",
          "data": {
            "text/plain": [
              "((150, 4), (150,))"
            ]
          },
          "metadata": {},
          "execution_count": 4
        }
      ]
    },
    {
      "cell_type": "code",
      "metadata": {
        "colab": {
          "base_uri": "https://localhost:8080/"
        },
        "id": "LtXC5Vxrp4n2",
        "outputId": "4e5153bd-8334-497c-b8c4-39286299041b"
      },
      "source": [
        "X_train, X_test, y_train, y_test = train_test_split(\n",
        "        X, y, test_size=0.2, random_state=42\n",
        ")\n",
        "\n",
        "X_train.shape, X_test.shape, y_train.shape, y_test.shape"
      ],
      "execution_count": 5,
      "outputs": [
        {
          "output_type": "execute_result",
          "data": {
            "text/plain": [
              "((120, 4), (30, 4), (120,), (30,))"
            ]
          },
          "metadata": {},
          "execution_count": 5
        }
      ]
    },
    {
      "cell_type": "markdown",
      "metadata": {
        "id": "JIGrrvCC0A4c"
      },
      "source": [
        "A single training row contains 4 features."
      ]
    },
    {
      "cell_type": "code",
      "metadata": {
        "colab": {
          "base_uri": "https://localhost:8080/"
        },
        "id": "nOuns2mT0Iwq",
        "outputId": "0f2f55a9-2ca1-4750-ae45-7d6a8a8b1bdf"
      },
      "source": [
        "X_train[0]"
      ],
      "execution_count": 6,
      "outputs": [
        {
          "output_type": "execute_result",
          "data": {
            "text/plain": [
              "array([4.6, 3.6, 1. , 0.2])"
            ]
          },
          "metadata": {},
          "execution_count": 6
        }
      ]
    },
    {
      "cell_type": "markdown",
      "metadata": {
        "id": "YcLAVcqM0M7S"
      },
      "source": [
        "### `KNN` classifier instance"
      ]
    },
    {
      "cell_type": "code",
      "metadata": {
        "id": "cWwr28ks0MF4"
      },
      "source": [
        "clf = KNN(k=3)\n",
        "clf.fit(X_train, y_train)"
      ],
      "execution_count": 7,
      "outputs": []
    },
    {
      "cell_type": "markdown",
      "metadata": {
        "id": "nhOR78lR0Lwq"
      },
      "source": [
        "### Classifier Evaluation."
      ]
    },
    {
      "cell_type": "code",
      "metadata": {
        "colab": {
          "base_uri": "https://localhost:8080/"
        },
        "id": "Up28Xu2u0d1C",
        "outputId": "f4e3cee7-88a1-4951-eb01-2ff57e03dba1"
      },
      "source": [
        "preds = clf.predict(X_test)\n",
        "\n",
        "preds[:2]"
      ],
      "execution_count": 8,
      "outputs": [
        {
          "output_type": "execute_result",
          "data": {
            "text/plain": [
              "array([1, 0])"
            ]
          },
          "metadata": {},
          "execution_count": 8
        }
      ]
    },
    {
      "cell_type": "code",
      "metadata": {
        "colab": {
          "base_uri": "https://localhost:8080/"
        },
        "id": "MCdldCyC0pxD",
        "outputId": "44e99da2-8bfc-4f8c-a2c1-416a22219905"
      },
      "source": [
        "clf.evaluate(y_test, preds)"
      ],
      "execution_count": 9,
      "outputs": [
        {
          "output_type": "execute_result",
          "data": {
            "text/plain": [
              "1.0"
            ]
          },
          "metadata": {},
          "execution_count": 9
        }
      ]
    },
    {
      "cell_type": "markdown",
      "metadata": {
        "id": "qN5i9BTo1VKi"
      },
      "source": [
        "You can play around the number of neighbors the classifier instance can take, but an odd number is always good."
      ]
    },
    {
      "cell_type": "code",
      "metadata": {
        "id": "EPiJXG7U14nP"
      },
      "source": [
        ""
      ],
      "execution_count": 9,
      "outputs": []
    }
  ]
}