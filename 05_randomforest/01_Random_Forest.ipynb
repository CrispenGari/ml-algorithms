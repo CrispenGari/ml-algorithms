{
  "nbformat": 4,
  "nbformat_minor": 0,
  "metadata": {
    "colab": {
      "name": "01_Random_Forest.ipynb",
      "provenance": [],
      "collapsed_sections": []
    },
    "kernelspec": {
      "name": "python3",
      "display_name": "Python 3"
    },
    "language_info": {
      "name": "python"
    }
  },
  "cells": [
    {
      "cell_type": "markdown",
      "source": [
        "### Random Forest\n",
        "\n",
        "In this notebook we are going to implement the Random Forest Algorithm. This algorithm is based on the Decision Tree algorithim implemented [here](https://github.com/CrispenGari/ml-algorithms/blob/main/09_decisiontree/01_Decision_Tree.ipynb)\n",
        "\n",
        "<img src=\"https://www.tibco.com/sites/tibco/files/media_entity/2021-05/random-forest-diagram.svg\" width=\"100%\" alt=\"\"/>\n",
        "\n",
        "\n",
        "First we are going to create a Decision Tree algorithm and based on that, we will expand it to a random forest classifier.\n",
        "\n",
        "### Basic imports\n",
        "\n"
      ],
      "metadata": {
        "id": "dXE1-cWSWxL3"
      }
    },
    {
      "cell_type": "code",
      "source": [
        "from collections import Counter\n",
        "import numpy as np"
      ],
      "metadata": {
        "id": "pwyZjV4nY7Qg"
      },
      "execution_count": 1,
      "outputs": []
    },
    {
      "cell_type": "markdown",
      "source": [
        "### The `entropy` global function\n",
        "Entropy is the measure of uncertainty of a random variable, it characterizes the impurity of an arbitrary collection of examples. The higher the entropy the more the information content.\n",
        "\n",
        "![img](https://www.geeksforgeeks.org/wp-content/ql-cache/quicklatex.com-4af22a0bc64a8814e17e83fa12a05eef_l3.svg)\n"
      ],
      "metadata": {
        "id": "jJKV-oYTZDg4"
      }
    },
    {
      "cell_type": "code",
      "source": [
        "def entropy(y):\n",
        "  hist = np.bincount(y)\n",
        "  ps = hist / len(y)\n",
        "  return -np.sum([p * np.log2(p) for p in ps if p > 0])"
      ],
      "metadata": {
        "id": "tZ7lY-dOZSqa"
      },
      "execution_count": 2,
      "outputs": []
    },
    {
      "cell_type": "markdown",
      "source": [
        "### The `Node` helper class"
      ],
      "metadata": {
        "id": "W68EeTCaZYYg"
      }
    },
    {
      "cell_type": "code",
      "source": [
        "class Node:\n",
        "  def __init__(\n",
        "      self, feature=None, threshold=None, left=None, right=None, *, value=None\n",
        "  ):\n",
        "    self.feature = feature\n",
        "    self.threshold = threshold\n",
        "    self.left = left\n",
        "    self.right = right\n",
        "    self.value = value\n",
        "\n",
        "  def is_leaf_node(self):\n",
        "    return self.value is not None"
      ],
      "metadata": {
        "id": "4Pq839MHZSmC"
      },
      "execution_count": 3,
      "outputs": []
    },
    {
      "cell_type": "markdown",
      "source": [
        "### Decision Tree Algorithim"
      ],
      "metadata": {
        "id": "xeyATMAsZkzZ"
      }
    },
    {
      "cell_type": "code",
      "source": [
        "class DecisionTree:\n",
        "  def __init__(self, min_samples_split=2, max_depth=100, n_feats=None):\n",
        "    self.min_samples_split = min_samples_split\n",
        "    self.max_depth = max_depth\n",
        "    self.n_feats = n_feats\n",
        "    self.root = None\n",
        "\n",
        "  def fit(self, X, y):\n",
        "    \"\"\"\n",
        "    In the fit method of a decision tree we will grow the tree\n",
        "    \"\"\"\n",
        "    self.n_feats = X.shape[1] if not self.n_feats else min(self.n_feats, X.shape[1])\n",
        "    self.root = self._grow_tree(X, y)\n",
        "\n",
        "  def predict(self, X):\n",
        "    \"\"\"\n",
        "    In the predict method we traverse down the treee\n",
        "    \"\"\"\n",
        "    return np.array([self._traverse_tree(x, self.root) for x in X])\n",
        "\n",
        "  def _grow_tree(self, X, y, depth=0):\n",
        "    n_samples, n_features = X.shape\n",
        "    n_labels = len(np.unique(y))\n",
        "    # stopping criteria\n",
        "    if (\n",
        "        depth >= self.max_depth\n",
        "        or n_labels == 1\n",
        "        or n_samples < self.min_samples_split\n",
        "    ):\n",
        "        leaf_value = self._most_common_label(y)\n",
        "        return Node(value=leaf_value)\n",
        "\n",
        "    feat_idxs = np.random.choice(n_features, self.n_feats, replace=False)\n",
        "    # greedily select the best split according to information gain\n",
        "    best_feat, best_thresh = self._best_criteria(X, y, feat_idxs)\n",
        "    # grow the children that result from the split\n",
        "    left_idxs, right_idxs = self._split(X[:, best_feat], best_thresh)\n",
        "    left = self._grow_tree(X[left_idxs, :], y[left_idxs], depth + 1)\n",
        "    right = self._grow_tree(X[right_idxs, :], y[right_idxs], depth + 1)\n",
        "    return Node(best_feat, best_thresh, left, right)\n",
        "\n",
        "  def _best_criteria(self, X, y, feat_idxs):\n",
        "    best_gain = -1\n",
        "    split_idx, split_thresh = None, None\n",
        "    for feat_idx in feat_idxs:\n",
        "      X_column = X[:, feat_idx]\n",
        "      thresholds = np.unique(X_column)\n",
        "      for threshold in thresholds:\n",
        "        gain = self._information_gain(y, X_column, threshold)\n",
        "        if gain > best_gain:\n",
        "          best_gain = gain\n",
        "          split_idx = feat_idx\n",
        "          split_thresh = threshold\n",
        "    return split_idx, split_thresh\n",
        "\n",
        "  def _information_gain(self, y, X_column, split_thresh):\n",
        "    # parent loss\n",
        "    parent_entropy = entropy(y)\n",
        "    # generate split\n",
        "    left_idxs, right_idxs = self._split(X_column, split_thresh)\n",
        "    if len(left_idxs) == 0 or len(right_idxs) == 0:\n",
        "      return 0\n",
        "    # compute the weighted avg. of the loss for the children\n",
        "    n = len(y)\n",
        "    n_l, n_r = len(left_idxs), len(right_idxs)\n",
        "    e_l, e_r = entropy(y[left_idxs]), entropy(y[right_idxs])\n",
        "    child_entropy = (n_l / n) * e_l + (n_r / n) * e_r\n",
        "    # information gain is difference in loss before vs. after split\n",
        "    ig = parent_entropy - child_entropy\n",
        "    return ig\n",
        "\n",
        "  def _split(self, X_column, split_thresh):\n",
        "    left_idxs = np.argwhere(X_column <= split_thresh).flatten()\n",
        "    right_idxs = np.argwhere(X_column > split_thresh).flatten()\n",
        "    return left_idxs, right_idxs\n",
        "\n",
        "  def _traverse_tree(self, x, node):\n",
        "    if node.is_leaf_node():\n",
        "      return node.value\n",
        "\n",
        "    if x[node.feature] <= node.threshold:\n",
        "      return self._traverse_tree(x, node.left)\n",
        "    return self._traverse_tree(x, node.right)\n",
        "\n",
        "  def _most_common_label(self, y):\n",
        "    counter = Counter(y)\n",
        "    most_common = counter.most_common(1)[0][0]\n",
        "    return most_common\n"
      ],
      "metadata": {
        "id": "IIs7x5t_ZSkE"
      },
      "execution_count": 4,
      "outputs": []
    },
    {
      "cell_type": "markdown",
      "source": [
        "### Random Forest Classifier\n",
        "\n",
        "First we are going to create a `bootstrap_sample` function that will randomply create samples for tree for us as well as the `most_comon_label` function that will return the most common label from an array of predicted labels."
      ],
      "metadata": {
        "id": "4JQ4cFXhhpk2"
      }
    },
    {
      "cell_type": "code",
      "source": [
        "def bootstrap_sample(X, y):\n",
        "  n_samples = X.shape[0]\n",
        "  idxs = np.random.choice(n_samples, n_samples, replace=True)\n",
        "  return X[idxs], y[idxs]\n",
        "\n",
        "\n",
        "def most_common_label(y):\n",
        "  counter = Counter(y)\n",
        "  most_common = counter.most_common(1)[0][0]\n",
        "  return most_common\n"
      ],
      "metadata": {
        "id": "3mHFqgZrhma-"
      },
      "execution_count": 5,
      "outputs": []
    },
    {
      "cell_type": "code",
      "source": [
        "class RandomForest:\n",
        "  def __init__(self, n_trees=10, min_samples_split=2, max_depth=100, n_feats=None):\n",
        "      self.n_trees = n_trees\n",
        "      self.min_samples_split = min_samples_split\n",
        "      self.max_depth = max_depth\n",
        "      self.n_feats = n_feats\n",
        "      self.trees = []\n",
        "\n",
        "  def fit(self, X, y):\n",
        "    self.trees = []\n",
        "    for _ in range(self.n_trees):\n",
        "      tree = DecisionTree(\n",
        "          min_samples_split=self.min_samples_split,\n",
        "          max_depth=self.max_depth,\n",
        "          n_feats=self.n_feats,\n",
        "      )\n",
        "      X_samp, y_samp = bootstrap_sample(X, y)\n",
        "      tree.fit(X_samp, y_samp)\n",
        "      self.trees.append(tree)\n",
        "\n",
        "  def predict(self, X):\n",
        "    tree_preds = np.array([tree.predict(X) for tree in self.trees])\n",
        "    tree_preds = np.swapaxes(tree_preds, 0, 1)\n",
        "    y_pred = [most_common_label(tree_pred) for tree_pred in tree_preds]\n",
        "    return np.array(y_pred)\n",
        "\n",
        "  def accuracy(self, y_true, y_pred):\n",
        "    return f\"Accuracy: {np.equal(y_true, y_pred).sum()/len(y_true)*100}%\"\n"
      ],
      "metadata": {
        "id": "Q-E5iGqWhmX_"
      },
      "execution_count": 6,
      "outputs": []
    },
    {
      "cell_type": "markdown",
      "source": [
        "### Testing the algorithm\n",
        "\n",
        "We are going to load the dataset from `sklearn`."
      ],
      "metadata": {
        "id": "vhT6wmldasI8"
      }
    },
    {
      "cell_type": "code",
      "source": [
        "from sklearn import datasets\n",
        "from sklearn.model_selection import train_test_split"
      ],
      "metadata": {
        "id": "e1V0-pYva4DP"
      },
      "execution_count": 7,
      "outputs": []
    },
    {
      "cell_type": "code",
      "source": [
        "data = datasets.load_breast_cancer()\n",
        "X, y = data.data, data.target\n",
        "\n",
        "X_train, X_test, y_train, y_test = train_test_split(\n",
        "    X, y, test_size=0.2, random_state=42\n",
        ")"
      ],
      "metadata": {
        "id": "9rPnu5_mbgaq"
      },
      "execution_count": 8,
      "outputs": []
    },
    {
      "cell_type": "code",
      "source": [
        "clf = RandomForest(n_trees=3, max_depth=10)\n",
        "\n",
        "clf.fit(X_train, y_train)\n",
        "y_pred = clf.predict(X_test)\n",
        "acc = clf.accuracy(y_test, y_pred)"
      ],
      "metadata": {
        "id": "cnYWzPa4ilFv"
      },
      "execution_count": 10,
      "outputs": []
    },
    {
      "cell_type": "code",
      "source": [
        "acc"
      ],
      "metadata": {
        "colab": {
          "base_uri": "https://localhost:8080/",
          "height": 35
        },
        "id": "D3FpmiFsi0yT",
        "outputId": "8e9e92fe-f6e4-443a-920f-06db9f0332cd"
      },
      "execution_count": 11,
      "outputs": [
        {
          "output_type": "execute_result",
          "data": {
            "application/vnd.google.colaboratory.intrinsic+json": {
              "type": "string"
            },
            "text/plain": [
              "'Accuracy: 94.73684210526315%'"
            ]
          },
          "metadata": {},
          "execution_count": 11
        }
      ]
    },
    {
      "cell_type": "markdown",
      "source": [
        "We can see that we have improved the accuracy by the use of the Random Forest over Decison Tree Algorithm. This is because instead of classifying a label with one tree we are classifying the label with multiple trees and take the most probable predicted label."
      ],
      "metadata": {
        "id": "sy-4w9-yivKX"
      }
    },
    {
      "cell_type": "markdown",
      "source": [
        "### Ref\n",
        "2. [python engineer](https://github.com/python-engineer/MLfromscratch/blob/master/mlfromscratch/random_forest.py)"
      ],
      "metadata": {
        "id": "_J4wf_U_l7wA"
      }
    },
    {
      "cell_type": "markdown",
      "source": [
        ""
      ],
      "metadata": {
        "id": "Eoqj5NnYWwWp"
      }
    },
    {
      "cell_type": "code",
      "source": [
        ""
      ],
      "metadata": {
        "id": "K6-Fr9zVmLvw"
      },
      "execution_count": 8,
      "outputs": []
    }
  ]
}