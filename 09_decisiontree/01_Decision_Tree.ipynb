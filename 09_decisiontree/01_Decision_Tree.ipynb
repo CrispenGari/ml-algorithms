{
  "nbformat": 4,
  "nbformat_minor": 0,
  "metadata": {
    "colab": {
      "name": "01_Decision_Tree.ipynb",
      "provenance": [],
      "collapsed_sections": []
    },
    "kernelspec": {
      "name": "python3",
      "display_name": "Python 3"
    },
    "language_info": {
      "name": "python"
    }
  },
  "cells": [
    {
      "cell_type": "markdown",
      "source": [
        "### Decision Tree Classifier\n",
        "\n",
        "In this notebook we are going to implement the Decision Tree Algorithm from scratch using popular python packages such as:\n",
        "\n",
        "1. numpy\n",
        "2. Counter\n",
        "3. sklearn\n",
        "\n",
        "\n",
        "Decision tree is one of the most powerfull supervised learning classification algorithm. It works for both continuous as well as categorical output variables.\n",
        "\n",
        "<img src=\"https://media.geeksforgeeks.org/wp-content/uploads/decisionTree.png\" alt=\"\" width=\"100%\"/>\n",
        "\n",
        "### Assumptions we make while using Decision tree.\n",
        "* At the beginning, we consider the whole training set as the root.\n",
        "* Attributes are assumed to be categorical for information gain and for gini index, attributes are assumed to be continuous.\n",
        "* On the basis of attribute values records are distributed recursively.\n",
        "* We use statistical methods for ordering attributes as root or internal node.\n",
        "\n",
        "### Pseudocode\n",
        "* Find the best attribute and place it on the root node of the tree.\n",
        "* Now, split the training set of the dataset into subsets. While making the subset make sure that each subset of training dataset should have the same value for an attribute.\n",
        "* Find leaf nodes in all branches by repeating 1 and 2 on each subset.\n",
        "\n",
        "![img](https://media.geeksforgeeks.org/wp-content/uploads/decisionTree2.png)\n",
        "\n",
        "> For more theory about this algorithm please visit the referenced website of geeks for geeks at the end of this notebook.\n",
        "\n",
        "\n",
        "### Basic imports\n",
        "\n"
      ],
      "metadata": {
        "id": "dXE1-cWSWxL3"
      }
    },
    {
      "cell_type": "code",
      "source": [
        "from collections import Counter\n",
        "import numpy as np"
      ],
      "metadata": {
        "id": "pwyZjV4nY7Qg"
      },
      "execution_count": 1,
      "outputs": []
    },
    {
      "cell_type": "markdown",
      "source": [
        "### The `entropy` global function\n",
        "Entropy is the measure of uncertainty of a random variable, it characterizes the impurity of an arbitrary collection of examples. The higher the entropy the more the information content.\n",
        "\n",
        "![img](https://www.geeksforgeeks.org/wp-content/ql-cache/quicklatex.com-4af22a0bc64a8814e17e83fa12a05eef_l3.svg)\n"
      ],
      "metadata": {
        "id": "jJKV-oYTZDg4"
      }
    },
    {
      "cell_type": "code",
      "source": [
        "def entropy(y):\n",
        "  hist = np.bincount(y)\n",
        "  ps = hist / len(y)\n",
        "  return -np.sum([p * np.log2(p) for p in ps if p > 0])"
      ],
      "metadata": {
        "id": "tZ7lY-dOZSqa"
      },
      "execution_count": 2,
      "outputs": []
    },
    {
      "cell_type": "markdown",
      "source": [
        "### The `Node` helper class"
      ],
      "metadata": {
        "id": "W68EeTCaZYYg"
      }
    },
    {
      "cell_type": "code",
      "source": [
        "class Node:\n",
        "  def __init__(\n",
        "      self, feature=None, threshold=None, left=None, right=None, *, value=None\n",
        "  ):\n",
        "    self.feature = feature\n",
        "    self.threshold = threshold\n",
        "    self.left = left\n",
        "    self.right = right\n",
        "    self.value = value\n",
        "\n",
        "  def is_leaf_node(self):\n",
        "    return self.value is not None"
      ],
      "metadata": {
        "id": "4Pq839MHZSmC"
      },
      "execution_count": 3,
      "outputs": []
    },
    {
      "cell_type": "markdown",
      "source": [
        "### Decision Tree Algorithim"
      ],
      "metadata": {
        "id": "xeyATMAsZkzZ"
      }
    },
    {
      "cell_type": "code",
      "source": [
        "class DecisionTree:\n",
        "  def __init__(self, min_samples_split=2, max_depth=100, n_feats=None):\n",
        "    self.min_samples_split = min_samples_split\n",
        "    self.max_depth = max_depth\n",
        "    self.n_feats = n_feats\n",
        "    self.root = None\n",
        "\n",
        "  def fit(self, X, y):\n",
        "    \"\"\"\n",
        "    In the fit method of a decision tree we will grow the tree\n",
        "    \"\"\"\n",
        "    self.n_feats = X.shape[1] if not self.n_feats else min(self.n_feats, X.shape[1])\n",
        "    self.root = self._grow_tree(X, y)\n",
        "\n",
        "  def predict(self, X):\n",
        "    \"\"\"\n",
        "    In the predict method we traverse down the treee\n",
        "    \"\"\"\n",
        "    return np.array([self._traverse_tree(x, self.root) for x in X])\n",
        "\n",
        "  def _grow_tree(self, X, y, depth=0):\n",
        "    n_samples, n_features = X.shape\n",
        "    n_labels = len(np.unique(y))\n",
        "    # stopping criteria\n",
        "    if (\n",
        "        depth >= self.max_depth\n",
        "        or n_labels == 1\n",
        "        or n_samples < self.min_samples_split\n",
        "    ):\n",
        "        leaf_value = self._most_common_label(y)\n",
        "        return Node(value=leaf_value)\n",
        "\n",
        "    feat_idxs = np.random.choice(n_features, self.n_feats, replace=False)\n",
        "    # greedily select the best split according to information gain\n",
        "    best_feat, best_thresh = self._best_criteria(X, y, feat_idxs)\n",
        "    # grow the children that result from the split\n",
        "    left_idxs, right_idxs = self._split(X[:, best_feat], best_thresh)\n",
        "    left = self._grow_tree(X[left_idxs, :], y[left_idxs], depth + 1)\n",
        "    right = self._grow_tree(X[right_idxs, :], y[right_idxs], depth + 1)\n",
        "    return Node(best_feat, best_thresh, left, right)\n",
        "\n",
        "  def _best_criteria(self, X, y, feat_idxs):\n",
        "    best_gain = -1\n",
        "    split_idx, split_thresh = None, None\n",
        "    for feat_idx in feat_idxs:\n",
        "      X_column = X[:, feat_idx]\n",
        "      thresholds = np.unique(X_column)\n",
        "      for threshold in thresholds:\n",
        "        gain = self._information_gain(y, X_column, threshold)\n",
        "        if gain > best_gain:\n",
        "          best_gain = gain\n",
        "          split_idx = feat_idx\n",
        "          split_thresh = threshold\n",
        "    return split_idx, split_thresh\n",
        "\n",
        "  def _information_gain(self, y, X_column, split_thresh):\n",
        "    # parent loss\n",
        "    parent_entropy = entropy(y)\n",
        "    # generate split\n",
        "    left_idxs, right_idxs = self._split(X_column, split_thresh)\n",
        "    if len(left_idxs) == 0 or len(right_idxs) == 0:\n",
        "      return 0\n",
        "    # compute the weighted avg. of the loss for the children\n",
        "    n = len(y)\n",
        "    n_l, n_r = len(left_idxs), len(right_idxs)\n",
        "    e_l, e_r = entropy(y[left_idxs]), entropy(y[right_idxs])\n",
        "    child_entropy = (n_l / n) * e_l + (n_r / n) * e_r\n",
        "    # information gain is difference in loss before vs. after split\n",
        "    ig = parent_entropy - child_entropy\n",
        "    return ig\n",
        "\n",
        "  def _split(self, X_column, split_thresh):\n",
        "    left_idxs = np.argwhere(X_column <= split_thresh).flatten()\n",
        "    right_idxs = np.argwhere(X_column > split_thresh).flatten()\n",
        "    return left_idxs, right_idxs\n",
        "\n",
        "  def _traverse_tree(self, x, node):\n",
        "    if node.is_leaf_node():\n",
        "      return node.value\n",
        "\n",
        "    if x[node.feature] <= node.threshold:\n",
        "      return self._traverse_tree(x, node.left)\n",
        "    return self._traverse_tree(x, node.right)\n",
        "\n",
        "  def _most_common_label(self, y):\n",
        "    counter = Counter(y)\n",
        "    most_common = counter.most_common(1)[0][0]\n",
        "    return most_common\n",
        "\n",
        "  def accuracy(self, y_true, y_pred):\n",
        "    return f\"Accuracy: {np.equal(y_true, y_pred).sum()/len(y_true)*100}%\"\n"
      ],
      "metadata": {
        "id": "IIs7x5t_ZSkE"
      },
      "execution_count": 9,
      "outputs": []
    },
    {
      "cell_type": "markdown",
      "source": [
        "### Testing the algorithm\n",
        "\n",
        "We are going to load the dataset from `sklearn`."
      ],
      "metadata": {
        "id": "vhT6wmldasI8"
      }
    },
    {
      "cell_type": "code",
      "source": [
        "from sklearn import datasets\n",
        "from sklearn.model_selection import train_test_split"
      ],
      "metadata": {
        "id": "e1V0-pYva4DP"
      },
      "execution_count": 10,
      "outputs": []
    },
    {
      "cell_type": "code",
      "source": [
        "data = datasets.load_breast_cancer()\n",
        "X, y = data.data, data.target\n",
        "\n",
        "X_train, X_test, y_train, y_test = train_test_split(\n",
        "    X, y, test_size=0.2, random_state=42\n",
        ")"
      ],
      "metadata": {
        "id": "9rPnu5_mbgaq"
      },
      "execution_count": 11,
      "outputs": []
    },
    {
      "cell_type": "code",
      "source": [
        "clf = DecisionTree(max_depth=10)\n",
        "clf.fit(X_train, y_train)"
      ],
      "metadata": {
        "id": "427hdCbybgXb"
      },
      "execution_count": 12,
      "outputs": []
    },
    {
      "cell_type": "code",
      "source": [
        "y_pred = clf.predict(X_test)\n",
        "acc = clf.accuracy(y_test, y_pred)\n",
        "acc"
      ],
      "metadata": {
        "colab": {
          "base_uri": "https://localhost:8080/",
          "height": 35
        },
        "id": "WUqQPj0ZbgCn",
        "outputId": "bb99ff62-5365-4e42-a290-880387b04687"
      },
      "execution_count": 13,
      "outputs": [
        {
          "output_type": "execute_result",
          "data": {
            "application/vnd.google.colaboratory.intrinsic+json": {
              "type": "string"
            },
            "text/plain": [
              "'Accuracy: 94.73684210526315%'"
            ]
          },
          "metadata": {},
          "execution_count": 13
        }
      ]
    },
    {
      "cell_type": "markdown",
      "source": [
        "### Ref\n",
        "\n",
        "1. [geeks for geeks](https://www.geeksforgeeks.org/decision-tree-implementation-python/)\n",
        "2. [python engineer](https://github.com/python-engineer/MLfromscratch/blob/master/mlfromscratch/decision_tree.py)"
      ],
      "metadata": {
        "id": "_J4wf_U_l7wA"
      }
    },
    {
      "cell_type": "markdown",
      "source": [
        ""
      ],
      "metadata": {
        "id": "Eoqj5NnYWwWp"
      }
    },
    {
      "cell_type": "code",
      "source": [
        ""
      ],
      "metadata": {
        "id": "K6-Fr9zVmLvw"
      },
      "execution_count": 8,
      "outputs": []
    }
  ]
}